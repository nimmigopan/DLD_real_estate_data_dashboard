{
 "cells": [
  {
   "cell_type": "code",
   "execution_count": 19,
   "id": "a94c72fb",
   "metadata": {},
   "outputs": [],
   "source": [
    "from selenium import webdriver\n",
    "from selenium.webdriver.common.by import By\n",
    "import time\n",
    "import mysql.connector\n",
    "\n",
    "from selenium.webdriver.support import expected_conditions as EC\n",
    "from selenium.webdriver.support.ui import WebDriverWait"
   ]
  },
  {
   "cell_type": "code",
   "execution_count": 20,
   "id": "aa16bd0f",
   "metadata": {},
   "outputs": [],
   "source": [
    "#pip install selenium"
   ]
  },
  {
   "cell_type": "code",
   "execution_count": 21,
   "id": "07df44bc",
   "metadata": {},
   "outputs": [],
   "source": [
    "#website = 'https://dubailand.gov.ae/en/open-data/real-estate-data/#/'\n",
    "#driver = webdriver.Chrome()\n",
    "#driver.get(website)\n",
    "#driver.implicitly_wait(10)\n",
    "#driver.find_element(by=By.ID,value=\"transaction_pFromDate\").click()   #clicking on calender\n",
    "#time.sleep(1)\n",
    "#driver.find_element(by=By.XPATH,value='//*[@id=\"ui-datepicker-div\"]/div/div/select[1]').click() \n",
    "#time.sleep(1)\n",
    "#driver.find_element(by=By.XPATH,value='//*[@id=\"ui-datepicker-div\"]/div/a[1]/span').click() \n",
    "#time.sleep(1)\n",
    "#driver.find_element(by=By.XPATH,value='//*[@id=\"ui-datepicker-div\"]/table/tbody/tr[1]/td[2]/a').click() #clicking on 1\n",
    "#time.sleep(1)\n",
    "#driver.find_element(by=By.XPATH,value='//*[@id=\"trxFilter\"]/div/div[10]/div/button[1]').click() #clicked search button\n",
    "#time.sleep(1)\n",
    "\n",
    "#response = requests.get(website)\n",
    "#html_content = response.content\n",
    "#soup = BeautifulSoup(html_content,'html.parser')\n",
    "#time.sleep(5)\n",
    "\n",
    "#t1 = soup.find('table',class_='table table-borderless table-condensed table-striped table-responsive-sm no-footer dtr-inline nested-table dataTable')\n",
    "\n",
    "#table = soup.find(\"table\",class_=\"table table-borderless table-condensed table-striped table-responsive-sm no-footer dtr-inline nested-table dataTable\")\n",
    "#print(table)"
   ]
  },
  {
   "cell_type": "code",
   "execution_count": 23,
   "id": "143a9402",
   "metadata": {},
   "outputs": [],
   "source": [
    "website = 'https://dubailand.gov.ae/en/open-data/real-estate-data/#/'\n",
    "driver = webdriver.Chrome()\n",
    "driver.get(website)\n",
    "#driver.implicitly_wait(10)\n",
    "driver.find_element(by=By.ID,value=\"transaction_pFromDate\").click()   #clicking on calender\n",
    "time.sleep(1)\n",
    "driver.find_element(by=By.XPATH,value='//*[@id=\"ui-datepicker-div\"]/div/a[1]/span').click()  #navigating to Jan\n",
    "time.sleep(1)\n",
    "driver.find_element(by=By.XPATH,value='//*[@id=\"ui-datepicker-div\"]/table/tbody/tr[1]/td[2]/a').click() #clicking on 1\n",
    "time.sleep(1)\n",
    "driver.find_element(by=By.XPATH,value='//*[@id=\"trxFilter\"]/div/div[10]/div/button[1]').click() #clicked search button\n",
    "time.sleep(1)\n",
    "\n",
    "table = driver.find_element(By.ID, \"transactionGrid\")"
   ]
  },
  {
   "cell_type": "code",
   "execution_count": 24,
   "id": "8b117115",
   "metadata": {},
   "outputs": [
    {
     "data": {
      "text/plain": [
       "<selenium.webdriver.remote.webelement.WebElement (session=\"20c568502881f0fcbee57bf153261e07\", element=\"6F72D0698CFD8E936BAA6592C3229EEB_element_145\")>"
      ]
     },
     "execution_count": 24,
     "metadata": {},
     "output_type": "execute_result"
    }
   ],
   "source": [
    "table"
   ]
  },
  {
   "cell_type": "code",
   "execution_count": 26,
   "id": "4d7cb900",
   "metadata": {},
   "outputs": [],
   "source": [
    "rows = table.find_elements(By.TAG_NAME, \"tr\")"
   ]
  },
  {
   "cell_type": "code",
   "execution_count": 27,
   "id": "da5318a2",
   "metadata": {},
   "outputs": [
    {
     "data": {
      "text/plain": [
       "[<selenium.webdriver.remote.webelement.WebElement (session=\"20c568502881f0fcbee57bf153261e07\", element=\"6F72D0698CFD8E936BAA6592C3229EEB_element_152\")>,\n",
       " <selenium.webdriver.remote.webelement.WebElement (session=\"20c568502881f0fcbee57bf153261e07\", element=\"6F72D0698CFD8E936BAA6592C3229EEB_element_153\")>,\n",
       " <selenium.webdriver.remote.webelement.WebElement (session=\"20c568502881f0fcbee57bf153261e07\", element=\"6F72D0698CFD8E936BAA6592C3229EEB_element_154\")>,\n",
       " <selenium.webdriver.remote.webelement.WebElement (session=\"20c568502881f0fcbee57bf153261e07\", element=\"6F72D0698CFD8E936BAA6592C3229EEB_element_155\")>,\n",
       " <selenium.webdriver.remote.webelement.WebElement (session=\"20c568502881f0fcbee57bf153261e07\", element=\"6F72D0698CFD8E936BAA6592C3229EEB_element_156\")>,\n",
       " <selenium.webdriver.remote.webelement.WebElement (session=\"20c568502881f0fcbee57bf153261e07\", element=\"6F72D0698CFD8E936BAA6592C3229EEB_element_157\")>,\n",
       " <selenium.webdriver.remote.webelement.WebElement (session=\"20c568502881f0fcbee57bf153261e07\", element=\"6F72D0698CFD8E936BAA6592C3229EEB_element_158\")>,\n",
       " <selenium.webdriver.remote.webelement.WebElement (session=\"20c568502881f0fcbee57bf153261e07\", element=\"6F72D0698CFD8E936BAA6592C3229EEB_element_159\")>,\n",
       " <selenium.webdriver.remote.webelement.WebElement (session=\"20c568502881f0fcbee57bf153261e07\", element=\"6F72D0698CFD8E936BAA6592C3229EEB_element_160\")>,\n",
       " <selenium.webdriver.remote.webelement.WebElement (session=\"20c568502881f0fcbee57bf153261e07\", element=\"6F72D0698CFD8E936BAA6592C3229EEB_element_161\")>,\n",
       " <selenium.webdriver.remote.webelement.WebElement (session=\"20c568502881f0fcbee57bf153261e07\", element=\"6F72D0698CFD8E936BAA6592C3229EEB_element_162\")>]"
      ]
     },
     "execution_count": 27,
     "metadata": {},
     "output_type": "execute_result"
    }
   ],
   "source": [
    "rows"
   ]
  },
  {
   "cell_type": "code",
   "execution_count": 28,
   "id": "1dda920e",
   "metadata": {},
   "outputs": [
    {
     "name": "stdout",
     "output_type": "stream",
     "text": [
      "[]\n",
      "['102-1-2024', '05/02/2024', 'Sales', 'Sell - Pre registration', 'Off-Plan', 'Free Hold', 'Residential', 'ARJAN', 'Unit', 'Flat', '599760.00', '33.91', '33.91', 'Studio', '1', 'Sharaf Dg Metro Station', 'Mall of the Emirates', 'Motor City', '2', '1', '', 'Vincitore Dolce Vita']\n",
      "['102-10-2024', '11/01/2024', 'Sales', 'Sell - Pre registration', 'Off-Plan', 'Free Hold', 'Residential', 'JUMEIRAH VILLAGE CIRCLE', 'Unit', 'Flat', '886320.00', '66.47', '66.47', '1 B/R', '1', 'Dubai Internet City', 'Mall of the Emirates', 'Sports City Swimming Academy', '2', '1', '', 'THE VYBE']\n",
      "['102-1000-2024', '08/01/2024', 'Sales', 'Sell - Pre registration', 'Off-Plan', 'Free Hold', 'Residential', 'JUMEIRAH VILLAGE CIRCLE', 'Unit', 'Flat', '1169025.00', '70.76', '70.76', '1 B/R', '1', 'Nakheel Metro Station', 'Marina Mall', 'Sports City Swimming Academy', '1', '1', '', 'Elitz 3 By Danube']\n",
      "['102-1001-2024', '08/01/2024', 'Sales', 'Sell - Pre registration', 'Off-Plan', 'Non Free Hold', 'Residential', 'SILICON OASIS', 'Unit', 'Flat', '1285588.11', '115.33', '115.33', '2 B/R', '1', '', '', 'IMG World Adventures', '2', '1', '', 'TRIA BY DEYAAR']\n",
      "['102-1002-2024', '08/01/2024', 'Sales', 'Sell - Pre registration', 'Off-Plan', 'Free Hold', 'Residential', 'DUBAI MARITIME CITY', 'Unit', 'Flat', '2636200.00', '110.02', '110.02', '2 B/R', '1', '', '', '', '1', '1', '', 'Oceanz 1 By Danube']\n",
      "['102-1003-2024', '08/01/2024', 'Sales', 'Sell - Pre registration', 'Off-Plan', 'Free Hold', 'Residential', 'Hadaeq Sheikh Mohammed Bin Rashid', 'Unit', 'Flat', '1681899.00', '73.32', '73.32', '1 B/R', '1', '', '', '', '1', '1', '', 'Club Drive']\n",
      "['102-1004-2024', '08/01/2024', 'Sales', 'Sell - Pre registration', 'Off-Plan', 'Free Hold', 'Residential', 'JUMEIRAH VILLAGE TRIANGLE', 'Unit', 'Flat', '1042720.00', '76.15', '76.15', '1 B/R', '1 0', 'Harbour Tower', 'Ibn-e-Battuta Mall', 'Sports City Swimming Academy', '1', '1', '', '555 PARK VIEWS']\n",
      "['102-1005-2024', '08/01/2024', 'Sales', 'Sell - Pre registration', 'Off-Plan', 'Free Hold', 'Residential', 'DUBAI CREEK HARBOUR', 'Unit', 'Flat', '3726888.00', '157.14', '157.14', '3 B/R', '2', 'Creek Metro Station', 'City Centre Mirdif', 'Dubai International Airport', '2', '1', '', 'Creek Beach - Savanna-Cedar-Mangrove']\n",
      "['102-1006-2024', '08/01/2024', 'Sales', 'Sell - Pre registration', 'Off-Plan', 'Non Free Hold', 'Residential', 'SILICON OASIS', 'Unit', 'Flat', '552357.00', '45.24', '45.24', 'Studio', '1', '', '', 'IMG World Adventures', '2', '1', '', 'TRIA BY DEYAAR']\n",
      "['102-1007-2024', '08/01/2024', 'Sales', 'Sell - Pre registration', 'Off-Plan', 'Free Hold', 'Residential', 'DUBAI HEALTHCARE CITY - PHASE 2', 'Unit', 'Flat', '533400.00', '41.70', '41.70', 'Studio', '1', 'Al Jadaf Metro Station', 'Dubai Mall', 'Downtown Dubai', '1', '1', '', 'AL WALEED GARDEN 2']\n"
     ]
    }
   ],
   "source": [
    "for row in rows:\n",
    "    # Extract the cells from the row\n",
    "    cells = row.find_elements(By.TAG_NAME, \"td\")\n",
    "    row_data = [cell.text for cell in cells]\n",
    "    print(row_data)"
   ]
  },
  {
   "cell_type": "code",
   "execution_count": 29,
   "id": "8a140556",
   "metadata": {},
   "outputs": [
    {
     "name": "stdout",
     "output_type": "stream",
     "text": [
      "[]\n",
      "['102-1-2024', '05/02/2024', 'Sales', 'Sell - Pre registration', 'Off-Plan', 'Free Hold', 'Residential', 'ARJAN', 'Unit', 'Flat', '599760.00', '33.91', '33.91', 'Studio', '1', 'Sharaf Dg Metro Station', 'Mall of the Emirates', 'Motor City', '2', '1', '', 'Vincitore Dolce Vita']\n",
      "['102-10-2024', '11/01/2024', 'Sales', 'Sell - Pre registration', 'Off-Plan', 'Free Hold', 'Residential', 'JUMEIRAH VILLAGE CIRCLE', 'Unit', 'Flat', '886320.00', '66.47', '66.47', '1 B/R', '1', 'Dubai Internet City', 'Mall of the Emirates', 'Sports City Swimming Academy', '2', '1', '', 'THE VYBE']\n",
      "['102-1000-2024', '08/01/2024', 'Sales', 'Sell - Pre registration', 'Off-Plan', 'Free Hold', 'Residential', 'JUMEIRAH VILLAGE CIRCLE', 'Unit', 'Flat', '1169025.00', '70.76', '70.76', '1 B/R', '1', 'Nakheel Metro Station', 'Marina Mall', 'Sports City Swimming Academy', '1', '1', '', 'Elitz 3 By Danube']\n",
      "['102-1001-2024', '08/01/2024', 'Sales', 'Sell - Pre registration', 'Off-Plan', 'Non Free Hold', 'Residential', 'SILICON OASIS', 'Unit', 'Flat', '1285588.11', '115.33', '115.33', '2 B/R', '1', '', '', 'IMG World Adventures', '2', '1', '', 'TRIA BY DEYAAR']\n",
      "['102-1002-2024', '08/01/2024', 'Sales', 'Sell - Pre registration', 'Off-Plan', 'Free Hold', 'Residential', 'DUBAI MARITIME CITY', 'Unit', 'Flat', '2636200.00', '110.02', '110.02', '2 B/R', '1', '', '', '', '1', '1', '', 'Oceanz 1 By Danube']\n",
      "['102-1003-2024', '08/01/2024', 'Sales', 'Sell - Pre registration', 'Off-Plan', 'Free Hold', 'Residential', 'Hadaeq Sheikh Mohammed Bin Rashid', 'Unit', 'Flat', '1681899.00', '73.32', '73.32', '1 B/R', '1', '', '', '', '1', '1', '', 'Club Drive']\n",
      "['102-1004-2024', '08/01/2024', 'Sales', 'Sell - Pre registration', 'Off-Plan', 'Free Hold', 'Residential', 'JUMEIRAH VILLAGE TRIANGLE', 'Unit', 'Flat', '1042720.00', '76.15', '76.15', '1 B/R', '1 0', 'Harbour Tower', 'Ibn-e-Battuta Mall', 'Sports City Swimming Academy', '1', '1', '', '555 PARK VIEWS']\n",
      "['102-1005-2024', '08/01/2024', 'Sales', 'Sell - Pre registration', 'Off-Plan', 'Free Hold', 'Residential', 'DUBAI CREEK HARBOUR', 'Unit', 'Flat', '3726888.00', '157.14', '157.14', '3 B/R', '2', 'Creek Metro Station', 'City Centre Mirdif', 'Dubai International Airport', '2', '1', '', 'Creek Beach - Savanna-Cedar-Mangrove']\n",
      "['102-1006-2024', '08/01/2024', 'Sales', 'Sell - Pre registration', 'Off-Plan', 'Non Free Hold', 'Residential', 'SILICON OASIS', 'Unit', 'Flat', '552357.00', '45.24', '45.24', 'Studio', '1', '', '', 'IMG World Adventures', '2', '1', '', 'TRIA BY DEYAAR']\n",
      "['102-1007-2024', '08/01/2024', 'Sales', 'Sell - Pre registration', 'Off-Plan', 'Free Hold', 'Residential', 'DUBAI HEALTHCARE CITY - PHASE 2', 'Unit', 'Flat', '533400.00', '41.70', '41.70', 'Studio', '1', 'Al Jadaf Metro Station', 'Dubai Mall', 'Downtown Dubai', '1', '1', '', 'AL WALEED GARDEN 2']\n"
     ]
    },
    {
     "ename": "ElementClickInterceptedException",
     "evalue": "Message: element click intercepted: Element is not clickable at point (928, 1398)\n  (Session info: chrome=121.0.6167.160)\nStacktrace:\n\tGetHandleVerifier [0x00007FF730DC5E42+3538674]\n\t(No symbol) [0x00007FF7309E4C02]\n\t(No symbol) [0x00007FF730895AEB]\n\t(No symbol) [0x00007FF7308E33E4]\n\t(No symbol) [0x00007FF7308E1122]\n\t(No symbol) [0x00007FF7308DE884]\n\t(No symbol) [0x00007FF7308DD5A9]\n\t(No symbol) [0x00007FF7308D1950]\n\t(No symbol) [0x00007FF7308FF0AA]\n\t(No symbol) [0x00007FF7308D124A]\n\t(No symbol) [0x00007FF7308FF2C0]\n\t(No symbol) [0x00007FF73091BDE3]\n\t(No symbol) [0x00007FF7308FEE53]\n\t(No symbol) [0x00007FF7308CF514]\n\t(No symbol) [0x00007FF7308D0631]\n\tGetHandleVerifier [0x00007FF730DF6CAD+3738973]\n\tGetHandleVerifier [0x00007FF730E4C506+4089270]\n\tGetHandleVerifier [0x00007FF730E44823+4057299]\n\tGetHandleVerifier [0x00007FF730B15C49+720121]\n\t(No symbol) [0x00007FF7309F126F]\n\t(No symbol) [0x00007FF7309EC304]\n\t(No symbol) [0x00007FF7309EC432]\n\t(No symbol) [0x00007FF7309DBD04]\n\tBaseThreadInitThunk [0x00007FF99536257D+29]\n\tRtlUserThreadStart [0x00007FF99654AA58+40]\n",
     "output_type": "error",
     "traceback": [
      "\u001b[1;31m---------------------------------------------------------------------------\u001b[0m",
      "\u001b[1;31mElementClickInterceptedException\u001b[0m          Traceback (most recent call last)",
      "Cell \u001b[1;32mIn[29], line 15\u001b[0m\n\u001b[0;32m     12\u001b[0m     \u001b[38;5;28;01mif\u001b[39;00m \u001b[38;5;124m\"\u001b[39m\u001b[38;5;124mdisabled\u001b[39m\u001b[38;5;124m\"\u001b[39m \u001b[38;5;129;01min\u001b[39;00m next_button\u001b[38;5;241m.\u001b[39mget_attribute(\u001b[38;5;124m\"\u001b[39m\u001b[38;5;124mclass\u001b[39m\u001b[38;5;124m\"\u001b[39m):\n\u001b[0;32m     13\u001b[0m         \u001b[38;5;28;01mbreak\u001b[39;00m    \n\u001b[1;32m---> 15\u001b[0m     next_button\u001b[38;5;241m.\u001b[39mclick()                                  \u001b[38;5;66;03m# Click the next button to go to the next page\u001b[39;00m\n\u001b[0;32m     16\u001b[0m     time\u001b[38;5;241m.\u001b[39msleep(\u001b[38;5;241m2\u001b[39m)\n\u001b[0;32m     17\u001b[0m driver\u001b[38;5;241m.\u001b[39mquit()\n",
      "File \u001b[1;32m~\\AppData\\Roaming\\Python\\Python311\\site-packages\\selenium\\webdriver\\remote\\webelement.py:94\u001b[0m, in \u001b[0;36mWebElement.click\u001b[1;34m(self)\u001b[0m\n\u001b[0;32m     92\u001b[0m \u001b[38;5;28;01mdef\u001b[39;00m \u001b[38;5;21mclick\u001b[39m(\u001b[38;5;28mself\u001b[39m) \u001b[38;5;241m-\u001b[39m\u001b[38;5;241m>\u001b[39m \u001b[38;5;28;01mNone\u001b[39;00m:\n\u001b[0;32m     93\u001b[0m \u001b[38;5;250m    \u001b[39m\u001b[38;5;124;03m\"\"\"Clicks the element.\"\"\"\u001b[39;00m\n\u001b[1;32m---> 94\u001b[0m     \u001b[38;5;28mself\u001b[39m\u001b[38;5;241m.\u001b[39m_execute(Command\u001b[38;5;241m.\u001b[39mCLICK_ELEMENT)\n",
      "File \u001b[1;32m~\\AppData\\Roaming\\Python\\Python311\\site-packages\\selenium\\webdriver\\remote\\webelement.py:395\u001b[0m, in \u001b[0;36mWebElement._execute\u001b[1;34m(self, command, params)\u001b[0m\n\u001b[0;32m    393\u001b[0m     params \u001b[38;5;241m=\u001b[39m {}\n\u001b[0;32m    394\u001b[0m params[\u001b[38;5;124m\"\u001b[39m\u001b[38;5;124mid\u001b[39m\u001b[38;5;124m\"\u001b[39m] \u001b[38;5;241m=\u001b[39m \u001b[38;5;28mself\u001b[39m\u001b[38;5;241m.\u001b[39m_id\n\u001b[1;32m--> 395\u001b[0m \u001b[38;5;28;01mreturn\u001b[39;00m \u001b[38;5;28mself\u001b[39m\u001b[38;5;241m.\u001b[39m_parent\u001b[38;5;241m.\u001b[39mexecute(command, params)\n",
      "File \u001b[1;32m~\\AppData\\Roaming\\Python\\Python311\\site-packages\\selenium\\webdriver\\remote\\webdriver.py:347\u001b[0m, in \u001b[0;36mWebDriver.execute\u001b[1;34m(self, driver_command, params)\u001b[0m\n\u001b[0;32m    345\u001b[0m response \u001b[38;5;241m=\u001b[39m \u001b[38;5;28mself\u001b[39m\u001b[38;5;241m.\u001b[39mcommand_executor\u001b[38;5;241m.\u001b[39mexecute(driver_command, params)\n\u001b[0;32m    346\u001b[0m \u001b[38;5;28;01mif\u001b[39;00m response:\n\u001b[1;32m--> 347\u001b[0m     \u001b[38;5;28mself\u001b[39m\u001b[38;5;241m.\u001b[39merror_handler\u001b[38;5;241m.\u001b[39mcheck_response(response)\n\u001b[0;32m    348\u001b[0m     response[\u001b[38;5;124m\"\u001b[39m\u001b[38;5;124mvalue\u001b[39m\u001b[38;5;124m\"\u001b[39m] \u001b[38;5;241m=\u001b[39m \u001b[38;5;28mself\u001b[39m\u001b[38;5;241m.\u001b[39m_unwrap_value(response\u001b[38;5;241m.\u001b[39mget(\u001b[38;5;124m\"\u001b[39m\u001b[38;5;124mvalue\u001b[39m\u001b[38;5;124m\"\u001b[39m, \u001b[38;5;28;01mNone\u001b[39;00m))\n\u001b[0;32m    349\u001b[0m     \u001b[38;5;28;01mreturn\u001b[39;00m response\n",
      "File \u001b[1;32m~\\AppData\\Roaming\\Python\\Python311\\site-packages\\selenium\\webdriver\\remote\\errorhandler.py:229\u001b[0m, in \u001b[0;36mErrorHandler.check_response\u001b[1;34m(self, response)\u001b[0m\n\u001b[0;32m    227\u001b[0m         alert_text \u001b[38;5;241m=\u001b[39m value[\u001b[38;5;124m\"\u001b[39m\u001b[38;5;124malert\u001b[39m\u001b[38;5;124m\"\u001b[39m]\u001b[38;5;241m.\u001b[39mget(\u001b[38;5;124m\"\u001b[39m\u001b[38;5;124mtext\u001b[39m\u001b[38;5;124m\"\u001b[39m)\n\u001b[0;32m    228\u001b[0m     \u001b[38;5;28;01mraise\u001b[39;00m exception_class(message, screen, stacktrace, alert_text)  \u001b[38;5;66;03m# type: ignore[call-arg]  # mypy is not smart enough here\u001b[39;00m\n\u001b[1;32m--> 229\u001b[0m \u001b[38;5;28;01mraise\u001b[39;00m exception_class(message, screen, stacktrace)\n",
      "\u001b[1;31mElementClickInterceptedException\u001b[0m: Message: element click intercepted: Element is not clickable at point (928, 1398)\n  (Session info: chrome=121.0.6167.160)\nStacktrace:\n\tGetHandleVerifier [0x00007FF730DC5E42+3538674]\n\t(No symbol) [0x00007FF7309E4C02]\n\t(No symbol) [0x00007FF730895AEB]\n\t(No symbol) [0x00007FF7308E33E4]\n\t(No symbol) [0x00007FF7308E1122]\n\t(No symbol) [0x00007FF7308DE884]\n\t(No symbol) [0x00007FF7308DD5A9]\n\t(No symbol) [0x00007FF7308D1950]\n\t(No symbol) [0x00007FF7308FF0AA]\n\t(No symbol) [0x00007FF7308D124A]\n\t(No symbol) [0x00007FF7308FF2C0]\n\t(No symbol) [0x00007FF73091BDE3]\n\t(No symbol) [0x00007FF7308FEE53]\n\t(No symbol) [0x00007FF7308CF514]\n\t(No symbol) [0x00007FF7308D0631]\n\tGetHandleVerifier [0x00007FF730DF6CAD+3738973]\n\tGetHandleVerifier [0x00007FF730E4C506+4089270]\n\tGetHandleVerifier [0x00007FF730E44823+4057299]\n\tGetHandleVerifier [0x00007FF730B15C49+720121]\n\t(No symbol) [0x00007FF7309F126F]\n\t(No symbol) [0x00007FF7309EC304]\n\t(No symbol) [0x00007FF7309EC432]\n\t(No symbol) [0x00007FF7309DBD04]\n\tBaseThreadInitThunk [0x00007FF99536257D+29]\n\tRtlUserThreadStart [0x00007FF99654AA58+40]\n"
     ]
    }
   ],
   "source": [
    "while True:\n",
    "    \n",
    "    table = driver.find_element(By.ID, \"transactionGrid\")  #finding table element\n",
    "    rows = table.find_elements(By.TAG_NAME, \"tr\")            # finding row elements from table\n",
    "                                                            \n",
    "    for row in rows:                                             # Iterate over the rows                                                    \n",
    "        cells = row.find_elements(By.TAG_NAME, \"td\")                  # Extract the cells from the row\n",
    "        row_data = [cell.text for cell in cells]\n",
    "        print(row_data)\n",
    "\n",
    "    next_button = driver.find_element(By.XPATH,'//*[@id=\"transactionGrid_next\"]') # Find the next button, check ifit's disabled\n",
    "    if \"disabled\" in next_button.get_attribute(\"class\"):\n",
    "        break    \n",
    "        \n",
    "    next_button.click()                                  # Click the next button to go to the next page\n",
    "    time.sleep(2)\n",
    "driver.quit()"
   ]
  },
  {
   "cell_type": "code",
   "execution_count": null,
   "id": "47a7397e",
   "metadata": {},
   "outputs": [],
   "source": []
  },
  {
   "cell_type": "code",
   "execution_count": null,
   "id": "8e4a10a4",
   "metadata": {},
   "outputs": [],
   "source": []
  },
  {
   "cell_type": "code",
   "execution_count": null,
   "id": "e72a9636",
   "metadata": {},
   "outputs": [],
   "source": []
  },
  {
   "cell_type": "code",
   "execution_count": null,
   "id": "0ea2b9fb",
   "metadata": {},
   "outputs": [],
   "source": []
  },
  {
   "cell_type": "code",
   "execution_count": null,
   "id": "b685871a",
   "metadata": {},
   "outputs": [],
   "source": []
  },
  {
   "cell_type": "code",
   "execution_count": null,
   "id": "87303774",
   "metadata": {},
   "outputs": [],
   "source": []
  }
 ],
 "metadata": {
  "kernelspec": {
   "display_name": "Python 3 (ipykernel)",
   "language": "python",
   "name": "python3"
  },
  "language_info": {
   "codemirror_mode": {
    "name": "ipython",
    "version": 3
   },
   "file_extension": ".py",
   "mimetype": "text/x-python",
   "name": "python",
   "nbconvert_exporter": "python",
   "pygments_lexer": "ipython3",
   "version": "3.11.3"
  }
 },
 "nbformat": 4,
 "nbformat_minor": 5
}
