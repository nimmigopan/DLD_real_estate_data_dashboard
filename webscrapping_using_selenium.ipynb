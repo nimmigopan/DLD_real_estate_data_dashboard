{
 "cells": [
  {
   "cell_type": "code",
   "execution_count": 10,
   "id": "a94c72fb",
   "metadata": {},
   "outputs": [],
   "source": [
    "import requests\n",
    "from bs4 import BeautifulSoup\n",
    "from selenium import webdriver\n",
    "from selenium.webdriver.common.by import By\n",
    "import time\n",
    "import mysql.connector\n",
    "\n",
    "from selenium.webdriver.support import expected_conditions as EC\n",
    "from selenium.webdriver.support.ui import WebDriverWait"
   ]
  },
  {
   "cell_type": "code",
   "execution_count": 2,
   "id": "aa16bd0f",
   "metadata": {},
   "outputs": [],
   "source": [
    "#pip install selenium"
   ]
  },
  {
   "cell_type": "code",
   "execution_count": 129,
   "id": "07df44bc",
   "metadata": {},
   "outputs": [
    {
     "name": "stdout",
     "output_type": "stream",
     "text": [
      "None\n"
     ]
    }
   ],
   "source": [
    "#website = 'https://dubailand.gov.ae/en/open-data/real-estate-data/#/'\n",
    "#driver = webdriver.Chrome()\n",
    "#driver.get(website)\n",
    "#driver.implicitly_wait(10)\n",
    "#driver.find_element(by=By.ID,value=\"transaction_pFromDate\").click()   #clicking on calender\n",
    "#time.sleep(1)\n",
    "#driver.find_element(by=By.XPATH,value='//*[@id=\"ui-datepicker-div\"]/div/div/select[1]').click() \n",
    "#time.sleep(1)\n",
    "#driver.find_element(by=By.XPATH,value='//*[@id=\"ui-datepicker-div\"]/div/a[1]/span').click() \n",
    "#time.sleep(1)\n",
    "#driver.find_element(by=By.XPATH,value='//*[@id=\"ui-datepicker-div\"]/table/tbody/tr[1]/td[2]/a').click() #clicking on 1\n",
    "#time.sleep(1)\n",
    "#driver.find_element(by=By.XPATH,value='//*[@id=\"trxFilter\"]/div/div[10]/div/button[1]').click() #clicked search button\n",
    "#time.sleep(1)\n",
    "\n",
    "#response = requests.get(website)\n",
    "#html_content = response.content\n",
    "#soup = BeautifulSoup(html_content,'html.parser')\n",
    "#time.sleep(5)\n",
    "\n",
    "#t1 = soup.find('table',class_='table table-borderless table-condensed table-striped table-responsive-sm no-footer dtr-inline nested-table dataTable')\n",
    "\n",
    "#table = soup.find(\"table\",class_=\"table table-borderless table-condensed table-striped table-responsive-sm no-footer dtr-inline nested-table dataTable\")\n",
    "#print(table)"
   ]
  },
  {
   "cell_type": "code",
   "execution_count": 11,
   "id": "143a9402",
   "metadata": {},
   "outputs": [],
   "source": [
    "website = 'https://dubailand.gov.ae/en/open-data/real-estate-data/#/'\n",
    "driver = webdriver.Chrome()\n",
    "driver.get(website)\n",
    "#driver.implicitly_wait(10)\n",
    "driver.find_element(by=By.ID,value=\"transaction_pFromDate\").click()   #clicking on calender\n",
    "time.sleep(1)\n",
    "#driver.find_element(by=By.XPATH,value='//*[@id=\"ui-datepicker-div\"]/div/div/select[1]').click() \n",
    "#time.sleep(1)\n",
    "driver.find_element(by=By.XPATH,value='//*[@id=\"ui-datepicker-div\"]/div/a[1]/span').click() \n",
    "time.sleep(1)\n",
    "driver.find_element(by=By.XPATH,value='//*[@id=\"ui-datepicker-div\"]/table/tbody/tr[1]/td[2]/a').click() #clicking on 1\n",
    "time.sleep(1)\n",
    "driver.find_element(by=By.XPATH,value='//*[@id=\"trxFilter\"]/div/div[10]/div/button[1]').click() #clicked search button\n",
    "time.sleep(1)\n",
    "\n",
    "table = driver.find_element(By.ID, \"transactionGrid\")"
   ]
  },
  {
   "cell_type": "code",
   "execution_count": 12,
   "id": "4d7cb900",
   "metadata": {},
   "outputs": [],
   "source": [
    "rows = table.find_elements(By.TAG_NAME, \"tr\")"
   ]
  },
  {
   "cell_type": "code",
   "execution_count": 13,
   "id": "1dda920e",
   "metadata": {},
   "outputs": [
    {
     "name": "stdout",
     "output_type": "stream",
     "text": [
      "[]\n",
      "['102-1-2024', '05/02/2024', 'Sales', 'Sell - Pre registration', 'Off-Plan', 'Free Hold', 'Residential', 'ARJAN', 'Unit', 'Flat', '599760.00', '33.91', '33.91', 'Studio', '1', 'Sharaf Dg Metro Station', 'Mall of the Emirates', 'Motor City', '2', '1', '', 'Vincitore Dolce Vita']\n",
      "['102-10-2024', '11/01/2024', 'Sales', 'Sell - Pre registration', 'Off-Plan', 'Free Hold', 'Residential', 'JUMEIRAH VILLAGE CIRCLE', 'Unit', 'Flat', '886320.00', '66.47', '66.47', '1 B/R', '1', 'Dubai Internet City', 'Mall of the Emirates', 'Sports City Swimming Academy', '2', '1', '', 'THE VYBE']\n",
      "['102-1000-2024', '08/01/2024', 'Sales', 'Sell - Pre registration', 'Off-Plan', 'Free Hold', 'Residential', 'JUMEIRAH VILLAGE CIRCLE', 'Unit', 'Flat', '1169025.00', '70.76', '70.76', '1 B/R', '1', 'Nakheel Metro Station', 'Marina Mall', 'Sports City Swimming Academy', '1', '1', '', 'Elitz 3 By Danube']\n",
      "['102-1001-2024', '08/01/2024', 'Sales', 'Sell - Pre registration', 'Off-Plan', 'Non Free Hold', 'Residential', 'SILICON OASIS', 'Unit', 'Flat', '1285588.11', '115.33', '115.33', '2 B/R', '1', '', '', 'IMG World Adventures', '2', '1', '', 'TRIA BY DEYAAR']\n",
      "['102-1002-2024', '08/01/2024', 'Sales', 'Sell - Pre registration', 'Off-Plan', 'Free Hold', 'Residential', 'DUBAI MARITIME CITY', 'Unit', 'Flat', '2636200.00', '110.02', '110.02', '2 B/R', '1', '', '', '', '1', '1', '', 'Oceanz 1 By Danube']\n",
      "['102-1003-2024', '08/01/2024', 'Sales', 'Sell - Pre registration', 'Off-Plan', 'Free Hold', 'Residential', 'Hadaeq Sheikh Mohammed Bin Rashid', 'Unit', 'Flat', '1681899.00', '73.32', '73.32', '1 B/R', '1', '', '', '', '1', '1', '', 'Club Drive']\n",
      "['102-1004-2024', '08/01/2024', 'Sales', 'Sell - Pre registration', 'Off-Plan', 'Free Hold', 'Residential', 'JUMEIRAH VILLAGE TRIANGLE', 'Unit', 'Flat', '1042720.00', '76.15', '76.15', '1 B/R', '1 0', 'Harbour Tower', 'Ibn-e-Battuta Mall', 'Sports City Swimming Academy', '1', '1', '', '555 PARK VIEWS']\n",
      "['102-1005-2024', '08/01/2024', 'Sales', 'Sell - Pre registration', 'Off-Plan', 'Free Hold', 'Residential', 'DUBAI CREEK HARBOUR', 'Unit', 'Flat', '3726888.00', '157.14', '157.14', '3 B/R', '2', 'Creek Metro Station', 'City Centre Mirdif', 'Dubai International Airport', '2', '1', '', 'Creek Beach - Savanna-Cedar-Mangrove']\n",
      "['102-1006-2024', '08/01/2024', 'Sales', 'Sell - Pre registration', 'Off-Plan', 'Non Free Hold', 'Residential', 'SILICON OASIS', 'Unit', 'Flat', '552357.00', '45.24', '45.24', 'Studio', '1', '', '', 'IMG World Adventures', '2', '1', '', 'TRIA BY DEYAAR']\n",
      "['102-1007-2024', '08/01/2024', 'Sales', 'Sell - Pre registration', 'Off-Plan', 'Free Hold', 'Residential', 'DUBAI HEALTHCARE CITY - PHASE 2', 'Unit', 'Flat', '533400.00', '41.70', '41.70', 'Studio', '1', 'Al Jadaf Metro Station', 'Dubai Mall', 'Downtown Dubai', '1', '1', '', 'AL WALEED GARDEN 2']\n"
     ]
    }
   ],
   "source": [
    "for row in rows:\n",
    "    # Extract the cells from the row\n",
    "    cells = row.find_elements(By.TAG_NAME, \"td\")\n",
    "    row_data = [cell.text for cell in cells]\n",
    "    print(row_data)"
   ]
  },
  {
   "cell_type": "code",
   "execution_count": 9,
   "id": "8a140556",
   "metadata": {},
   "outputs": [
    {
     "name": "stdout",
     "output_type": "stream",
     "text": [
      "[]\n",
      "['102-1-2024', '05/02/2024', 'Sales', 'Sell - Pre registration', 'Off-Plan', 'Free Hold', 'Residential', 'ARJAN', 'Unit', 'Flat', '599760.00', '33.91', '33.91', 'Studio', '1', 'Sharaf Dg Metro Station', 'Mall of the Emirates', 'Motor City', '2', '1', '', 'Vincitore Dolce Vita']\n",
      "['102-10-2024', '11/01/2024', 'Sales', 'Sell - Pre registration', 'Off-Plan', 'Free Hold', 'Residential', 'JUMEIRAH VILLAGE CIRCLE', 'Unit', 'Flat', '886320.00', '66.47', '66.47', '1 B/R', '1', 'Dubai Internet City', 'Mall of the Emirates', 'Sports City Swimming Academy', '2', '1', '', 'THE VYBE']\n",
      "['102-1000-2024', '08/01/2024', 'Sales', 'Sell - Pre registration', 'Off-Plan', 'Free Hold', 'Residential', 'JUMEIRAH VILLAGE CIRCLE', 'Unit', 'Flat', '1169025.00', '70.76', '70.76', '1 B/R', '1', 'Nakheel Metro Station', 'Marina Mall', 'Sports City Swimming Academy', '1', '1', '', 'Elitz 3 By Danube']\n",
      "['102-1001-2024', '08/01/2024', 'Sales', 'Sell - Pre registration', 'Off-Plan', 'Non Free Hold', 'Residential', 'SILICON OASIS', 'Unit', 'Flat', '1285588.11', '115.33', '115.33', '2 B/R', '1', '', '', 'IMG World Adventures', '2', '1', '', 'TRIA BY DEYAAR']\n",
      "['102-1002-2024', '08/01/2024', 'Sales', 'Sell - Pre registration', 'Off-Plan', 'Free Hold', 'Residential', 'DUBAI MARITIME CITY', 'Unit', 'Flat', '2636200.00', '110.02', '110.02', '2 B/R', '1', '', '', '', '1', '1', '', 'Oceanz 1 By Danube']\n",
      "['102-1003-2024', '08/01/2024', 'Sales', 'Sell - Pre registration', 'Off-Plan', 'Free Hold', 'Residential', 'Hadaeq Sheikh Mohammed Bin Rashid', 'Unit', 'Flat', '1681899.00', '73.32', '73.32', '1 B/R', '1', '', '', '', '1', '1', '', 'Club Drive']\n",
      "['102-1004-2024', '08/01/2024', 'Sales', 'Sell - Pre registration', 'Off-Plan', 'Free Hold', 'Residential', 'JUMEIRAH VILLAGE TRIANGLE', 'Unit', 'Flat', '1042720.00', '76.15', '76.15', '1 B/R', '1 0', 'Harbour Tower', 'Ibn-e-Battuta Mall', 'Sports City Swimming Academy', '1', '1', '', '555 PARK VIEWS']\n",
      "['102-1005-2024', '08/01/2024', 'Sales', 'Sell - Pre registration', 'Off-Plan', 'Free Hold', 'Residential', 'DUBAI CREEK HARBOUR', 'Unit', 'Flat', '3726888.00', '157.14', '157.14', '3 B/R', '2', 'Creek Metro Station', 'City Centre Mirdif', 'Dubai International Airport', '2', '1', '', 'Creek Beach - Savanna-Cedar-Mangrove']\n",
      "['102-1006-2024', '08/01/2024', 'Sales', 'Sell - Pre registration', 'Off-Plan', 'Non Free Hold', 'Residential', 'SILICON OASIS', 'Unit', 'Flat', '552357.00', '45.24', '45.24', 'Studio', '1', '', '', 'IMG World Adventures', '2', '1', '', 'TRIA BY DEYAAR']\n",
      "['102-1007-2024', '08/01/2024', 'Sales', 'Sell - Pre registration', 'Off-Plan', 'Free Hold', 'Residential', 'DUBAI HEALTHCARE CITY - PHASE 2', 'Unit', 'Flat', '533400.00', '41.70', '41.70', 'Studio', '1', 'Al Jadaf Metro Station', 'Dubai Mall', 'Downtown Dubai', '1', '1', '', 'AL WALEED GARDEN 2']\n"
     ]
    },
    {
     "ename": "ElementClickInterceptedException",
     "evalue": "Message: element click intercepted: Element is not clickable at point (928, 1398)\n  (Session info: chrome=121.0.6167.160)\nStacktrace:\n\tGetHandleVerifier [0x00007FF6412D5E42+3538674]\n\t(No symbol) [0x00007FF640EF4C02]\n\t(No symbol) [0x00007FF640DA5AEB]\n\t(No symbol) [0x00007FF640DF33E4]\n\t(No symbol) [0x00007FF640DF1122]\n\t(No symbol) [0x00007FF640DEE884]\n\t(No symbol) [0x00007FF640DED5A9]\n\t(No symbol) [0x00007FF640DE1950]\n\t(No symbol) [0x00007FF640E0F0AA]\n\t(No symbol) [0x00007FF640DE124A]\n\t(No symbol) [0x00007FF640E0F2C0]\n\t(No symbol) [0x00007FF640E2BDE3]\n\t(No symbol) [0x00007FF640E0EE53]\n\t(No symbol) [0x00007FF640DDF514]\n\t(No symbol) [0x00007FF640DE0631]\n\tGetHandleVerifier [0x00007FF641306CAD+3738973]\n\tGetHandleVerifier [0x00007FF64135C506+4089270]\n\tGetHandleVerifier [0x00007FF641354823+4057299]\n\tGetHandleVerifier [0x00007FF641025C49+720121]\n\t(No symbol) [0x00007FF640F0126F]\n\t(No symbol) [0x00007FF640EFC304]\n\t(No symbol) [0x00007FF640EFC432]\n\t(No symbol) [0x00007FF640EEBD04]\n\tBaseThreadInitThunk [0x00007FF99536257D+29]\n\tRtlUserThreadStart [0x00007FF99654AA58+40]\n",
     "output_type": "error",
     "traceback": [
      "\u001b[1;31m---------------------------------------------------------------------------\u001b[0m",
      "\u001b[1;31mElementClickInterceptedException\u001b[0m          Traceback (most recent call last)",
      "Cell \u001b[1;32mIn[9], line 24\u001b[0m\n\u001b[0;32m     19\u001b[0m     \u001b[38;5;28;01mbreak\u001b[39;00m\n\u001b[0;32m     23\u001b[0m \u001b[38;5;66;03m# Click the next button to go to the next page\u001b[39;00m\n\u001b[1;32m---> 24\u001b[0m next_button\u001b[38;5;241m.\u001b[39mclick()\n\u001b[0;32m     26\u001b[0m \u001b[38;5;66;03m# Wait for the next page to load (adjust the time as needed)\u001b[39;00m\n\u001b[0;32m     27\u001b[0m time\u001b[38;5;241m.\u001b[39msleep(\u001b[38;5;241m2\u001b[39m)\n",
      "File \u001b[1;32m~\\AppData\\Roaming\\Python\\Python311\\site-packages\\selenium\\webdriver\\remote\\webelement.py:94\u001b[0m, in \u001b[0;36mWebElement.click\u001b[1;34m(self)\u001b[0m\n\u001b[0;32m     92\u001b[0m \u001b[38;5;28;01mdef\u001b[39;00m \u001b[38;5;21mclick\u001b[39m(\u001b[38;5;28mself\u001b[39m) \u001b[38;5;241m-\u001b[39m\u001b[38;5;241m>\u001b[39m \u001b[38;5;28;01mNone\u001b[39;00m:\n\u001b[0;32m     93\u001b[0m \u001b[38;5;250m    \u001b[39m\u001b[38;5;124;03m\"\"\"Clicks the element.\"\"\"\u001b[39;00m\n\u001b[1;32m---> 94\u001b[0m     \u001b[38;5;28mself\u001b[39m\u001b[38;5;241m.\u001b[39m_execute(Command\u001b[38;5;241m.\u001b[39mCLICK_ELEMENT)\n",
      "File \u001b[1;32m~\\AppData\\Roaming\\Python\\Python311\\site-packages\\selenium\\webdriver\\remote\\webelement.py:395\u001b[0m, in \u001b[0;36mWebElement._execute\u001b[1;34m(self, command, params)\u001b[0m\n\u001b[0;32m    393\u001b[0m     params \u001b[38;5;241m=\u001b[39m {}\n\u001b[0;32m    394\u001b[0m params[\u001b[38;5;124m\"\u001b[39m\u001b[38;5;124mid\u001b[39m\u001b[38;5;124m\"\u001b[39m] \u001b[38;5;241m=\u001b[39m \u001b[38;5;28mself\u001b[39m\u001b[38;5;241m.\u001b[39m_id\n\u001b[1;32m--> 395\u001b[0m \u001b[38;5;28;01mreturn\u001b[39;00m \u001b[38;5;28mself\u001b[39m\u001b[38;5;241m.\u001b[39m_parent\u001b[38;5;241m.\u001b[39mexecute(command, params)\n",
      "File \u001b[1;32m~\\AppData\\Roaming\\Python\\Python311\\site-packages\\selenium\\webdriver\\remote\\webdriver.py:347\u001b[0m, in \u001b[0;36mWebDriver.execute\u001b[1;34m(self, driver_command, params)\u001b[0m\n\u001b[0;32m    345\u001b[0m response \u001b[38;5;241m=\u001b[39m \u001b[38;5;28mself\u001b[39m\u001b[38;5;241m.\u001b[39mcommand_executor\u001b[38;5;241m.\u001b[39mexecute(driver_command, params)\n\u001b[0;32m    346\u001b[0m \u001b[38;5;28;01mif\u001b[39;00m response:\n\u001b[1;32m--> 347\u001b[0m     \u001b[38;5;28mself\u001b[39m\u001b[38;5;241m.\u001b[39merror_handler\u001b[38;5;241m.\u001b[39mcheck_response(response)\n\u001b[0;32m    348\u001b[0m     response[\u001b[38;5;124m\"\u001b[39m\u001b[38;5;124mvalue\u001b[39m\u001b[38;5;124m\"\u001b[39m] \u001b[38;5;241m=\u001b[39m \u001b[38;5;28mself\u001b[39m\u001b[38;5;241m.\u001b[39m_unwrap_value(response\u001b[38;5;241m.\u001b[39mget(\u001b[38;5;124m\"\u001b[39m\u001b[38;5;124mvalue\u001b[39m\u001b[38;5;124m\"\u001b[39m, \u001b[38;5;28;01mNone\u001b[39;00m))\n\u001b[0;32m    349\u001b[0m     \u001b[38;5;28;01mreturn\u001b[39;00m response\n",
      "File \u001b[1;32m~\\AppData\\Roaming\\Python\\Python311\\site-packages\\selenium\\webdriver\\remote\\errorhandler.py:229\u001b[0m, in \u001b[0;36mErrorHandler.check_response\u001b[1;34m(self, response)\u001b[0m\n\u001b[0;32m    227\u001b[0m         alert_text \u001b[38;5;241m=\u001b[39m value[\u001b[38;5;124m\"\u001b[39m\u001b[38;5;124malert\u001b[39m\u001b[38;5;124m\"\u001b[39m]\u001b[38;5;241m.\u001b[39mget(\u001b[38;5;124m\"\u001b[39m\u001b[38;5;124mtext\u001b[39m\u001b[38;5;124m\"\u001b[39m)\n\u001b[0;32m    228\u001b[0m     \u001b[38;5;28;01mraise\u001b[39;00m exception_class(message, screen, stacktrace, alert_text)  \u001b[38;5;66;03m# type: ignore[call-arg]  # mypy is not smart enough here\u001b[39;00m\n\u001b[1;32m--> 229\u001b[0m \u001b[38;5;28;01mraise\u001b[39;00m exception_class(message, screen, stacktrace)\n",
      "\u001b[1;31mElementClickInterceptedException\u001b[0m: Message: element click intercepted: Element is not clickable at point (928, 1398)\n  (Session info: chrome=121.0.6167.160)\nStacktrace:\n\tGetHandleVerifier [0x00007FF6412D5E42+3538674]\n\t(No symbol) [0x00007FF640EF4C02]\n\t(No symbol) [0x00007FF640DA5AEB]\n\t(No symbol) [0x00007FF640DF33E4]\n\t(No symbol) [0x00007FF640DF1122]\n\t(No symbol) [0x00007FF640DEE884]\n\t(No symbol) [0x00007FF640DED5A9]\n\t(No symbol) [0x00007FF640DE1950]\n\t(No symbol) [0x00007FF640E0F0AA]\n\t(No symbol) [0x00007FF640DE124A]\n\t(No symbol) [0x00007FF640E0F2C0]\n\t(No symbol) [0x00007FF640E2BDE3]\n\t(No symbol) [0x00007FF640E0EE53]\n\t(No symbol) [0x00007FF640DDF514]\n\t(No symbol) [0x00007FF640DE0631]\n\tGetHandleVerifier [0x00007FF641306CAD+3738973]\n\tGetHandleVerifier [0x00007FF64135C506+4089270]\n\tGetHandleVerifier [0x00007FF641354823+4057299]\n\tGetHandleVerifier [0x00007FF641025C49+720121]\n\t(No symbol) [0x00007FF640F0126F]\n\t(No symbol) [0x00007FF640EFC304]\n\t(No symbol) [0x00007FF640EFC432]\n\t(No symbol) [0x00007FF640EEBD04]\n\tBaseThreadInitThunk [0x00007FF99536257D+29]\n\tRtlUserThreadStart [0x00007FF99654AA58+40]\n"
     ]
    }
   ],
   "source": [
    "while True:\n",
    "    # Find the table element by its ID or any other identifying attribute\n",
    "    table = driver.find_element(By.ID, \"transactionGrid\")\n",
    "\n",
    "    # Extract the rows from the table\n",
    "    rows = table.find_elements(By.TAG_NAME, \"tr\")\n",
    "\n",
    "    # Iterate over the rows and print the data\n",
    "    for row in rows:\n",
    "        # Extract the cells from the row\n",
    "        cells = row.find_elements(By.TAG_NAME, \"td\")\n",
    "        row_data = [cell.text for cell in cells]\n",
    "        print(row_data)\n",
    "\n",
    "    # Find the next button and check if it's disabled\n",
    "    next_button = driver.find_element(By.XPATH,'//*[@id=\"transactionGrid_next\"]')\n",
    "    if \"disabled\" in next_button.get_attribute(\"class\"):\n",
    "        # If the next button is disabled, there are no more pages\n",
    "        break\n",
    "\n",
    "        \n",
    "        \n",
    "    # Click the next button to go to the next page\n",
    "    next_button.click()\n",
    "\n",
    "    # Wait for the next page to load (adjust the time as needed)\n",
    "    time.sleep(2)\n",
    "    "
   ]
  },
  {
   "cell_type": "code",
   "execution_count": null,
   "id": "47a7397e",
   "metadata": {},
   "outputs": [],
   "source": []
  },
  {
   "cell_type": "code",
   "execution_count": null,
   "id": "8e4a10a4",
   "metadata": {},
   "outputs": [],
   "source": []
  },
  {
   "cell_type": "code",
   "execution_count": null,
   "id": "e72a9636",
   "metadata": {},
   "outputs": [],
   "source": []
  },
  {
   "cell_type": "code",
   "execution_count": null,
   "id": "0ea2b9fb",
   "metadata": {},
   "outputs": [],
   "source": []
  },
  {
   "cell_type": "code",
   "execution_count": null,
   "id": "b685871a",
   "metadata": {},
   "outputs": [],
   "source": []
  },
  {
   "cell_type": "code",
   "execution_count": 113,
   "id": "8c7fe535",
   "metadata": {},
   "outputs": [
    {
     "ename": "NoSuchWindowException",
     "evalue": "Message: no such window: target window already closed\nfrom unknown error: web view not found\n  (Session info: chrome=121.0.6167.140)\nStacktrace:\n\tGetHandleVerifier [0x00007FF79E755E42+3538674]\n\t(No symbol) [0x00007FF79E374C02]\n\t(No symbol) [0x00007FF79E225AEB]\n\t(No symbol) [0x00007FF79E20288C]\n\t(No symbol) [0x00007FF79E295DD7]\n\t(No symbol) [0x00007FF79E2AB40F]\n\t(No symbol) [0x00007FF79E28EE53]\n\t(No symbol) [0x00007FF79E25F514]\n\t(No symbol) [0x00007FF79E260631]\n\tGetHandleVerifier [0x00007FF79E786CAD+3738973]\n\tGetHandleVerifier [0x00007FF79E7DC506+4089270]\n\tGetHandleVerifier [0x00007FF79E7D4823+4057299]\n\tGetHandleVerifier [0x00007FF79E4A5C49+720121]\n\t(No symbol) [0x00007FF79E38126F]\n\t(No symbol) [0x00007FF79E37C304]\n\t(No symbol) [0x00007FF79E37C432]\n\t(No symbol) [0x00007FF79E36BD04]\n\tBaseThreadInitThunk [0x00007FF99536257D+29]\n\tRtlUserThreadStart [0x00007FF99654AA58+40]\n",
     "output_type": "error",
     "traceback": [
      "\u001b[1;31m---------------------------------------------------------------------------\u001b[0m",
      "\u001b[1;31mNoSuchWindowException\u001b[0m                     Traceback (most recent call last)",
      "Cell \u001b[1;32mIn[113], line 1\u001b[0m\n\u001b[1;32m----> 1\u001b[0m rows \u001b[38;5;241m=\u001b[39m table\u001b[38;5;241m.\u001b[39mfind_elements(By\u001b[38;5;241m.\u001b[39mXPATH, \u001b[38;5;124m'\u001b[39m\u001b[38;5;124m//*[@id=\u001b[39m\u001b[38;5;124m\"\u001b[39m\u001b[38;5;124mtransactionGrid\u001b[39m\u001b[38;5;124m\"\u001b[39m\u001b[38;5;124m]/tbody/tr[1]\u001b[39m\u001b[38;5;124m'\u001b[39m)\n",
      "File \u001b[1;32m~\\AppData\\Roaming\\Python\\Python311\\site-packages\\selenium\\webdriver\\remote\\webelement.py:439\u001b[0m, in \u001b[0;36mWebElement.find_elements\u001b[1;34m(self, by, value)\u001b[0m\n\u001b[0;32m    436\u001b[0m     by \u001b[38;5;241m=\u001b[39m By\u001b[38;5;241m.\u001b[39mCSS_SELECTOR\n\u001b[0;32m    437\u001b[0m     value \u001b[38;5;241m=\u001b[39m \u001b[38;5;124mf\u001b[39m\u001b[38;5;124m'\u001b[39m\u001b[38;5;124m[name=\u001b[39m\u001b[38;5;124m\"\u001b[39m\u001b[38;5;132;01m{\u001b[39;00mvalue\u001b[38;5;132;01m}\u001b[39;00m\u001b[38;5;124m\"\u001b[39m\u001b[38;5;124m]\u001b[39m\u001b[38;5;124m'\u001b[39m\n\u001b[1;32m--> 439\u001b[0m \u001b[38;5;28;01mreturn\u001b[39;00m \u001b[38;5;28mself\u001b[39m\u001b[38;5;241m.\u001b[39m_execute(Command\u001b[38;5;241m.\u001b[39mFIND_CHILD_ELEMENTS, {\u001b[38;5;124m\"\u001b[39m\u001b[38;5;124musing\u001b[39m\u001b[38;5;124m\"\u001b[39m: by, \u001b[38;5;124m\"\u001b[39m\u001b[38;5;124mvalue\u001b[39m\u001b[38;5;124m\"\u001b[39m: value})[\u001b[38;5;124m\"\u001b[39m\u001b[38;5;124mvalue\u001b[39m\u001b[38;5;124m\"\u001b[39m]\n",
      "File \u001b[1;32m~\\AppData\\Roaming\\Python\\Python311\\site-packages\\selenium\\webdriver\\remote\\webelement.py:395\u001b[0m, in \u001b[0;36mWebElement._execute\u001b[1;34m(self, command, params)\u001b[0m\n\u001b[0;32m    393\u001b[0m     params \u001b[38;5;241m=\u001b[39m {}\n\u001b[0;32m    394\u001b[0m params[\u001b[38;5;124m\"\u001b[39m\u001b[38;5;124mid\u001b[39m\u001b[38;5;124m\"\u001b[39m] \u001b[38;5;241m=\u001b[39m \u001b[38;5;28mself\u001b[39m\u001b[38;5;241m.\u001b[39m_id\n\u001b[1;32m--> 395\u001b[0m \u001b[38;5;28;01mreturn\u001b[39;00m \u001b[38;5;28mself\u001b[39m\u001b[38;5;241m.\u001b[39m_parent\u001b[38;5;241m.\u001b[39mexecute(command, params)\n",
      "File \u001b[1;32m~\\AppData\\Roaming\\Python\\Python311\\site-packages\\selenium\\webdriver\\remote\\webdriver.py:347\u001b[0m, in \u001b[0;36mWebDriver.execute\u001b[1;34m(self, driver_command, params)\u001b[0m\n\u001b[0;32m    345\u001b[0m response \u001b[38;5;241m=\u001b[39m \u001b[38;5;28mself\u001b[39m\u001b[38;5;241m.\u001b[39mcommand_executor\u001b[38;5;241m.\u001b[39mexecute(driver_command, params)\n\u001b[0;32m    346\u001b[0m \u001b[38;5;28;01mif\u001b[39;00m response:\n\u001b[1;32m--> 347\u001b[0m     \u001b[38;5;28mself\u001b[39m\u001b[38;5;241m.\u001b[39merror_handler\u001b[38;5;241m.\u001b[39mcheck_response(response)\n\u001b[0;32m    348\u001b[0m     response[\u001b[38;5;124m\"\u001b[39m\u001b[38;5;124mvalue\u001b[39m\u001b[38;5;124m\"\u001b[39m] \u001b[38;5;241m=\u001b[39m \u001b[38;5;28mself\u001b[39m\u001b[38;5;241m.\u001b[39m_unwrap_value(response\u001b[38;5;241m.\u001b[39mget(\u001b[38;5;124m\"\u001b[39m\u001b[38;5;124mvalue\u001b[39m\u001b[38;5;124m\"\u001b[39m, \u001b[38;5;28;01mNone\u001b[39;00m))\n\u001b[0;32m    349\u001b[0m     \u001b[38;5;28;01mreturn\u001b[39;00m response\n",
      "File \u001b[1;32m~\\AppData\\Roaming\\Python\\Python311\\site-packages\\selenium\\webdriver\\remote\\errorhandler.py:229\u001b[0m, in \u001b[0;36mErrorHandler.check_response\u001b[1;34m(self, response)\u001b[0m\n\u001b[0;32m    227\u001b[0m         alert_text \u001b[38;5;241m=\u001b[39m value[\u001b[38;5;124m\"\u001b[39m\u001b[38;5;124malert\u001b[39m\u001b[38;5;124m\"\u001b[39m]\u001b[38;5;241m.\u001b[39mget(\u001b[38;5;124m\"\u001b[39m\u001b[38;5;124mtext\u001b[39m\u001b[38;5;124m\"\u001b[39m)\n\u001b[0;32m    228\u001b[0m     \u001b[38;5;28;01mraise\u001b[39;00m exception_class(message, screen, stacktrace, alert_text)  \u001b[38;5;66;03m# type: ignore[call-arg]  # mypy is not smart enough here\u001b[39;00m\n\u001b[1;32m--> 229\u001b[0m \u001b[38;5;28;01mraise\u001b[39;00m exception_class(message, screen, stacktrace)\n",
      "\u001b[1;31mNoSuchWindowException\u001b[0m: Message: no such window: target window already closed\nfrom unknown error: web view not found\n  (Session info: chrome=121.0.6167.140)\nStacktrace:\n\tGetHandleVerifier [0x00007FF79E755E42+3538674]\n\t(No symbol) [0x00007FF79E374C02]\n\t(No symbol) [0x00007FF79E225AEB]\n\t(No symbol) [0x00007FF79E20288C]\n\t(No symbol) [0x00007FF79E295DD7]\n\t(No symbol) [0x00007FF79E2AB40F]\n\t(No symbol) [0x00007FF79E28EE53]\n\t(No symbol) [0x00007FF79E25F514]\n\t(No symbol) [0x00007FF79E260631]\n\tGetHandleVerifier [0x00007FF79E786CAD+3738973]\n\tGetHandleVerifier [0x00007FF79E7DC506+4089270]\n\tGetHandleVerifier [0x00007FF79E7D4823+4057299]\n\tGetHandleVerifier [0x00007FF79E4A5C49+720121]\n\t(No symbol) [0x00007FF79E38126F]\n\t(No symbol) [0x00007FF79E37C304]\n\t(No symbol) [0x00007FF79E37C432]\n\t(No symbol) [0x00007FF79E36BD04]\n\tBaseThreadInitThunk [0x00007FF99536257D+29]\n\tRtlUserThreadStart [0x00007FF99654AA58+40]\n"
     ]
    }
   ],
   "source": [
    "rows = table.find_elements(By.XPATH, '//*[@id=\"transactionGrid\"]/tbody/tr[1]')"
   ]
  },
  {
   "cell_type": "code",
   "execution_count": 107,
   "id": "3d4f2454",
   "metadata": {},
   "outputs": [
    {
     "data": {
      "text/plain": [
       "[<selenium.webdriver.remote.webelement.WebElement (session=\"0a6e840f12d4923b634cfa871c67a186\", element=\"F29CF68BB599FB953D79FA2D2CEFC8E6_element_196\")>]"
      ]
     },
     "execution_count": 107,
     "metadata": {},
     "output_type": "execute_result"
    }
   ],
   "source": [
    "rows"
   ]
  },
  {
   "cell_type": "code",
   "execution_count": 108,
   "id": "0416764c",
   "metadata": {},
   "outputs": [],
   "source": [
    "for row in rows:\n",
    "    # Find all cells within the row\n",
    "    cells = row.find_elements(By.XPATH, '//*[@id=\"transactionGrid\"]/tbody/tr[1]/td[1]')"
   ]
  },
  {
   "cell_type": "code",
   "execution_count": 109,
   "id": "bb7825b3",
   "metadata": {},
   "outputs": [
    {
     "data": {
      "text/plain": [
       "[<selenium.webdriver.remote.webelement.WebElement (session=\"0a6e840f12d4923b634cfa871c67a186\", element=\"F29CF68BB599FB953D79FA2D2CEFC8E6_element_197\")>]"
      ]
     },
     "execution_count": 109,
     "metadata": {},
     "output_type": "execute_result"
    }
   ],
   "source": [
    "cells"
   ]
  },
  {
   "cell_type": "code",
   "execution_count": 110,
   "id": "dbab2bd0",
   "metadata": {},
   "outputs": [
    {
     "name": "stdout",
     "output_type": "stream",
     "text": [
      "102-1-2024\n"
     ]
    }
   ],
   "source": [
    "for cell in cells:\n",
    "        print(cell.text)"
   ]
  },
  {
   "cell_type": "code",
   "execution_count": null,
   "id": "87303774",
   "metadata": {},
   "outputs": [],
   "source": []
  },
  {
   "cell_type": "code",
   "execution_count": null,
   "id": "b23b3d1c",
   "metadata": {},
   "outputs": [],
   "source": []
  },
  {
   "cell_type": "code",
   "execution_count": null,
   "id": "df33a404",
   "metadata": {},
   "outputs": [],
   "source": []
  },
  {
   "cell_type": "code",
   "execution_count": null,
   "id": "34aa5a58",
   "metadata": {},
   "outputs": [],
   "source": []
  },
  {
   "cell_type": "code",
   "execution_count": 51,
   "id": "593cd1fa",
   "metadata": {},
   "outputs": [],
   "source": [
    "headers = table.find_all(\"th\")"
   ]
  },
  {
   "cell_type": "code",
   "execution_count": 55,
   "id": "a7113b29",
   "metadata": {},
   "outputs": [
    {
     "data": {
      "text/plain": [
       "[]"
      ]
     },
     "execution_count": 55,
     "metadata": {},
     "output_type": "execute_result"
    }
   ],
   "source": [
    "table.find_all(\"td\")"
   ]
  },
  {
   "cell_type": "code",
   "execution_count": 81,
   "id": "7ba390e9",
   "metadata": {},
   "outputs": [],
   "source": [
    "t1 = soup.find('table',class_='table table-borderless table-condensed table-striped table-responsive-sm no-footer dtr-inline nested-table dataTable')"
   ]
  },
  {
   "cell_type": "code",
   "execution_count": 82,
   "id": "619f176a",
   "metadata": {},
   "outputs": [],
   "source": [
    "t1"
   ]
  },
  {
   "cell_type": "code",
   "execution_count": null,
   "id": "51719a26",
   "metadata": {},
   "outputs": [],
   "source": []
  }
 ],
 "metadata": {
  "kernelspec": {
   "display_name": "Python 3 (ipykernel)",
   "language": "python",
   "name": "python3"
  },
  "language_info": {
   "codemirror_mode": {
    "name": "ipython",
    "version": 3
   },
   "file_extension": ".py",
   "mimetype": "text/x-python",
   "name": "python",
   "nbconvert_exporter": "python",
   "pygments_lexer": "ipython3",
   "version": "3.11.3"
  }
 },
 "nbformat": 4,
 "nbformat_minor": 5
}
